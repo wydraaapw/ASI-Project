{
 "cells": [
  {
   "cell_type": "code",
   "execution_count": null,
   "id": "df2a956c-5efa-4995-995d-612ca0d02197",
   "metadata": {},
   "outputs": [],
   "source": []
  }
 ],
 "metadata": {
  "kernelspec": {
   "display_name": "Python (asi-ml)",
   "language": "python",
   "name": "asi-ml"
  },
  "language_info": {
   "codemirror_mode": {
    "name": "ipython",
    "version": 3
   },
   "file_extension": ".py",
   "mimetype": "text/x-python",
   "name": "python",
   "nbconvert_exporter": "python",
   "pygments_lexer": "ipython3",
   "version": "3.11.14"
  }
 },
 "nbformat": 4,
 "nbformat_minor": 5
}
